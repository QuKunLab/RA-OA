{
 "cells": [
  {
   "cell_type": "code",
   "execution_count": 5,
   "metadata": {},
   "outputs": [],
   "source": [
    "\n",
    "%matplotlib inline\n",
    "\n",
    "import pandas as pd\n",
    "import matplotlib.pyplot as plt\n",
    "import numpy as np\n",
    "from sklearn.model_selection import train_test_split\n",
    "from sklearn.preprocessing import StandardScaler, OneHotEncoder\n",
    "from sklearn.decomposition import PCA\n",
    "\n",
    "def ReadTable(Infile):return pd.read_table(Infile,sep='\\t',index_col=0)"
   ]
  },
  {
   "cell_type": "code",
   "execution_count": 4,
   "metadata": {},
   "outputs": [
    {
     "data": {
      "text/html": [
       "<div>\n",
       "<style scoped>\n",
       "    .dataframe tbody tr th:only-of-type {\n",
       "        vertical-align: middle;\n",
       "    }\n",
       "\n",
       "    .dataframe tbody tr th {\n",
       "        vertical-align: top;\n",
       "    }\n",
       "\n",
       "    .dataframe thead th {\n",
       "        text-align: right;\n",
       "    }\n",
       "</style>\n",
       "<table border=\"1\" class=\"dataframe\">\n",
       "  <thead>\n",
       "    <tr style=\"text-align: right;\">\n",
       "      <th>3</th>\n",
       "      <th>merge_peak_1</th>\n",
       "      <th>merge_peak_2</th>\n",
       "      <th>merge_peak_3</th>\n",
       "      <th>merge_peak_4</th>\n",
       "      <th>merge_peak_5</th>\n",
       "      <th>merge_peak_6</th>\n",
       "      <th>merge_peak_7</th>\n",
       "      <th>merge_peak_8</th>\n",
       "      <th>merge_peak_9</th>\n",
       "      <th>merge_peak_10</th>\n",
       "      <th>...</th>\n",
       "      <th>merge_peak_169258</th>\n",
       "      <th>merge_peak_169259</th>\n",
       "      <th>merge_peak_169260</th>\n",
       "      <th>merge_peak_169261</th>\n",
       "      <th>merge_peak_169262</th>\n",
       "      <th>merge_peak_169263</th>\n",
       "      <th>merge_peak_169264</th>\n",
       "      <th>merge_peak_169265</th>\n",
       "      <th>merge_peak_169266</th>\n",
       "      <th>merge_peak_169267</th>\n",
       "    </tr>\n",
       "  </thead>\n",
       "  <tbody>\n",
       "    <tr>\n",
       "      <th>HCB001</th>\n",
       "      <td>1.413196</td>\n",
       "      <td>0.000000</td>\n",
       "      <td>0.000000</td>\n",
       "      <td>0.000000</td>\n",
       "      <td>0.00000</td>\n",
       "      <td>0.000000</td>\n",
       "      <td>7.268315</td>\n",
       "      <td>0.000000</td>\n",
       "      <td>0.000000</td>\n",
       "      <td>2.359705</td>\n",
       "      <td>...</td>\n",
       "      <td>1.413196</td>\n",
       "      <td>2.359705</td>\n",
       "      <td>0.877143</td>\n",
       "      <td>0.000000</td>\n",
       "      <td>0.877143</td>\n",
       "      <td>5.828493</td>\n",
       "      <td>3.925418</td>\n",
       "      <td>0.000000</td>\n",
       "      <td>0.000000</td>\n",
       "      <td>0.000000</td>\n",
       "    </tr>\n",
       "    <tr>\n",
       "      <th>HCB002</th>\n",
       "      <td>2.863048</td>\n",
       "      <td>0.179706</td>\n",
       "      <td>0.085730</td>\n",
       "      <td>0.514573</td>\n",
       "      <td>0.00000</td>\n",
       "      <td>0.000000</td>\n",
       "      <td>7.462356</td>\n",
       "      <td>2.255655</td>\n",
       "      <td>0.304153</td>\n",
       "      <td>1.832373</td>\n",
       "      <td>...</td>\n",
       "      <td>1.832373</td>\n",
       "      <td>2.388105</td>\n",
       "      <td>0.179706</td>\n",
       "      <td>0.179706</td>\n",
       "      <td>3.751612</td>\n",
       "      <td>6.241716</td>\n",
       "      <td>3.602036</td>\n",
       "      <td>1.666061</td>\n",
       "      <td>0.000000</td>\n",
       "      <td>0.000000</td>\n",
       "    </tr>\n",
       "    <tr>\n",
       "      <th>HCB003</th>\n",
       "      <td>0.000000</td>\n",
       "      <td>0.000000</td>\n",
       "      <td>1.292181</td>\n",
       "      <td>2.509411</td>\n",
       "      <td>0.00000</td>\n",
       "      <td>0.000000</td>\n",
       "      <td>8.625336</td>\n",
       "      <td>2.333657</td>\n",
       "      <td>1.790432</td>\n",
       "      <td>0.742842</td>\n",
       "      <td>...</td>\n",
       "      <td>0.742842</td>\n",
       "      <td>4.166650</td>\n",
       "      <td>0.742842</td>\n",
       "      <td>2.068285</td>\n",
       "      <td>2.970253</td>\n",
       "      <td>6.336939</td>\n",
       "      <td>3.940838</td>\n",
       "      <td>1.292181</td>\n",
       "      <td>0.000000</td>\n",
       "      <td>0.000000</td>\n",
       "    </tr>\n",
       "    <tr>\n",
       "      <th>HCM001</th>\n",
       "      <td>5.018285</td>\n",
       "      <td>3.615311</td>\n",
       "      <td>0.113211</td>\n",
       "      <td>2.499032</td>\n",
       "      <td>0.38529</td>\n",
       "      <td>0.014647</td>\n",
       "      <td>7.945085</td>\n",
       "      <td>3.720681</td>\n",
       "      <td>2.025535</td>\n",
       "      <td>2.900990</td>\n",
       "      <td>...</td>\n",
       "      <td>3.797860</td>\n",
       "      <td>4.730695</td>\n",
       "      <td>1.274033</td>\n",
       "      <td>3.226068</td>\n",
       "      <td>2.240159</td>\n",
       "      <td>6.172581</td>\n",
       "      <td>2.633218</td>\n",
       "      <td>3.264873</td>\n",
       "      <td>0.071791</td>\n",
       "      <td>0.652077</td>\n",
       "    </tr>\n",
       "    <tr>\n",
       "      <th>HCM002</th>\n",
       "      <td>4.117458</td>\n",
       "      <td>0.000000</td>\n",
       "      <td>1.186190</td>\n",
       "      <td>3.007342</td>\n",
       "      <td>0.00000</td>\n",
       "      <td>0.140178</td>\n",
       "      <td>8.109964</td>\n",
       "      <td>4.283892</td>\n",
       "      <td>3.111508</td>\n",
       "      <td>2.749425</td>\n",
       "      <td>...</td>\n",
       "      <td>2.592304</td>\n",
       "      <td>4.959884</td>\n",
       "      <td>2.865070</td>\n",
       "      <td>2.267933</td>\n",
       "      <td>1.467439</td>\n",
       "      <td>5.559592</td>\n",
       "      <td>2.865070</td>\n",
       "      <td>3.007342</td>\n",
       "      <td>0.243271</td>\n",
       "      <td>1.904926</td>\n",
       "    </tr>\n",
       "  </tbody>\n",
       "</table>\n",
       "<p>5 rows × 169267 columns</p>\n",
       "</div>"
      ],
      "text/plain": [
       "3       merge_peak_1  merge_peak_2  merge_peak_3  merge_peak_4  merge_peak_5  \\\n",
       "HCB001      1.413196      0.000000      0.000000      0.000000       0.00000   \n",
       "HCB002      2.863048      0.179706      0.085730      0.514573       0.00000   \n",
       "HCB003      0.000000      0.000000      1.292181      2.509411       0.00000   \n",
       "HCM001      5.018285      3.615311      0.113211      2.499032       0.38529   \n",
       "HCM002      4.117458      0.000000      1.186190      3.007342       0.00000   \n",
       "\n",
       "3       merge_peak_6  merge_peak_7  merge_peak_8  merge_peak_9  merge_peak_10  \\\n",
       "HCB001      0.000000      7.268315      0.000000      0.000000       2.359705   \n",
       "HCB002      0.000000      7.462356      2.255655      0.304153       1.832373   \n",
       "HCB003      0.000000      8.625336      2.333657      1.790432       0.742842   \n",
       "HCM001      0.014647      7.945085      3.720681      2.025535       2.900990   \n",
       "HCM002      0.140178      8.109964      4.283892      3.111508       2.749425   \n",
       "\n",
       "3       ...  merge_peak_169258  merge_peak_169259  merge_peak_169260  \\\n",
       "HCB001  ...           1.413196           2.359705           0.877143   \n",
       "HCB002  ...           1.832373           2.388105           0.179706   \n",
       "HCB003  ...           0.742842           4.166650           0.742842   \n",
       "HCM001  ...           3.797860           4.730695           1.274033   \n",
       "HCM002  ...           2.592304           4.959884           2.865070   \n",
       "\n",
       "3       merge_peak_169261  merge_peak_169262  merge_peak_169263  \\\n",
       "HCB001           0.000000           0.877143           5.828493   \n",
       "HCB002           0.179706           3.751612           6.241716   \n",
       "HCB003           2.068285           2.970253           6.336939   \n",
       "HCM001           3.226068           2.240159           6.172581   \n",
       "HCM002           2.267933           1.467439           5.559592   \n",
       "\n",
       "3       merge_peak_169264  merge_peak_169265  merge_peak_169266  \\\n",
       "HCB001           3.925418           0.000000           0.000000   \n",
       "HCB002           3.602036           1.666061           0.000000   \n",
       "HCB003           3.940838           1.292181           0.000000   \n",
       "HCM001           2.633218           3.264873           0.071791   \n",
       "HCM002           2.865070           3.007342           0.243271   \n",
       "\n",
       "3       merge_peak_169267  \n",
       "HCB001           0.000000  \n",
       "HCB002           0.000000  \n",
       "HCB003           0.000000  \n",
       "HCM001           0.652077  \n",
       "HCM002           1.904926  \n",
       "\n",
       "[5 rows x 169267 columns]"
      ]
     },
     "execution_count": 4,
     "metadata": {},
     "output_type": "execute_result"
    }
   ],
   "source": [
    "df = ReadTable('ATACseq_QNorm_All.log2.txt')\n",
    "df=df.T\n",
    "df.head()\n"
   ]
  },
  {
   "cell_type": "code",
   "execution_count": 138,
   "metadata": {},
   "outputs": [],
   "source": [
    "#Group:\n",
    "\n",
    "CellType = []\n",
    "for item in df['CellType']:\n",
    "    CellType.append(item)\n",
    "    \n",
    "Disease = []\n",
    "for item in df['Disease']:\n",
    "    Disease.append(item)\n",
    "    \n",
    "TSS = []\n",
    "for item in df['TSS']:\n",
    "    TSS.append(item)\n",
    "    \n",
    "Reads = []\n",
    "for item in df['FinalMappedReads']:\n",
    "    Reads.append(item)\n",
    "\n",
    "\n",
    "\n",
    "CellType_color = df.CellType.map({'B':'deepskyblue', 'Mono':'orange', 'T4':'#00a03e', 'T8':'m'})  \n",
    "Disease_color = df.Disease.map({'HC':'limegreen', 'OA':'blue', 'RA':'red'})    \n",
    "    \n",
    "pc=[]\n",
    "for i in range (1,11):\n",
    "    pc.append(\"PC\"+str(i))    \n",
    "    "
   ]
  },
  {
   "cell_type": "code",
   "execution_count": 139,
   "metadata": {},
   "outputs": [
    {
     "data": {
      "text/plain": [
       "['PC1', 'PC2', 'PC3', 'PC4', 'PC5', 'PC6', 'PC7', 'PC8', 'PC9', 'PC10']"
      ]
     },
     "execution_count": 139,
     "metadata": {},
     "output_type": "execute_result"
    }
   ],
   "source": [
    "pc"
   ]
  },
  {
   "cell_type": "code",
   "execution_count": 140,
   "metadata": {},
   "outputs": [
    {
     "data": {
      "text/html": [
       "<div>\n",
       "<style scoped>\n",
       "    .dataframe tbody tr th:only-of-type {\n",
       "        vertical-align: middle;\n",
       "    }\n",
       "\n",
       "    .dataframe tbody tr th {\n",
       "        vertical-align: top;\n",
       "    }\n",
       "\n",
       "    .dataframe thead th {\n",
       "        text-align: right;\n",
       "    }\n",
       "</style>\n",
       "<table border=\"1\" class=\"dataframe\">\n",
       "  <thead>\n",
       "    <tr style=\"text-align: right;\">\n",
       "      <th></th>\n",
       "      <th>HCB001</th>\n",
       "      <th>HCB002</th>\n",
       "      <th>HCB003</th>\n",
       "      <th>HCM001</th>\n",
       "      <th>HCM002</th>\n",
       "      <th>HCM003</th>\n",
       "      <th>HCTA001</th>\n",
       "      <th>HCTA002</th>\n",
       "      <th>HCTA003</th>\n",
       "      <th>HCTA004</th>\n",
       "      <th>...</th>\n",
       "      <th>RATB024all</th>\n",
       "      <th>RATB031</th>\n",
       "      <th>RATB032</th>\n",
       "      <th>RATB033</th>\n",
       "      <th>RATB034</th>\n",
       "      <th>RATB045</th>\n",
       "      <th>RATB046</th>\n",
       "      <th>RATB048</th>\n",
       "      <th>RATB054</th>\n",
       "      <th>RATB055</th>\n",
       "    </tr>\n",
       "    <tr>\n",
       "      <th>3</th>\n",
       "      <th></th>\n",
       "      <th></th>\n",
       "      <th></th>\n",
       "      <th></th>\n",
       "      <th></th>\n",
       "      <th></th>\n",
       "      <th></th>\n",
       "      <th></th>\n",
       "      <th></th>\n",
       "      <th></th>\n",
       "      <th></th>\n",
       "      <th></th>\n",
       "      <th></th>\n",
       "      <th></th>\n",
       "      <th></th>\n",
       "      <th></th>\n",
       "      <th></th>\n",
       "      <th></th>\n",
       "      <th></th>\n",
       "      <th></th>\n",
       "      <th></th>\n",
       "    </tr>\n",
       "  </thead>\n",
       "  <tbody>\n",
       "    <tr>\n",
       "      <th>merge_peak_1</th>\n",
       "      <td>1.4131961524546763</td>\n",
       "      <td>2.86304842232868</td>\n",
       "      <td>0.0</td>\n",
       "      <td>5.01828535302775</td>\n",
       "      <td>4.117457581548177</td>\n",
       "      <td>5.062569347196967</td>\n",
       "      <td>2.5068236732248237</td>\n",
       "      <td>2.94179621055672</td>\n",
       "      <td>2.519716476105718</td>\n",
       "      <td>0.0</td>\n",
       "      <td>...</td>\n",
       "      <td>5.498055437770108</td>\n",
       "      <td>5.267168863485237</td>\n",
       "      <td>5.112359713908498</td>\n",
       "      <td>5.3993106261997275</td>\n",
       "      <td>5.410083540587341</td>\n",
       "      <td>5.186594341933815</td>\n",
       "      <td>5.217784640220905</td>\n",
       "      <td>5.882892542668281</td>\n",
       "      <td>5.177673770819981</td>\n",
       "      <td>5.777607578663552</td>\n",
       "    </tr>\n",
       "    <tr>\n",
       "      <th>merge_peak_2</th>\n",
       "      <td>0.0</td>\n",
       "      <td>0.1797060222348978</td>\n",
       "      <td>0.0</td>\n",
       "      <td>3.615310591590426</td>\n",
       "      <td>0.0</td>\n",
       "      <td>0.9777471931528721</td>\n",
       "      <td>0.0</td>\n",
       "      <td>0.0</td>\n",
       "      <td>0.0</td>\n",
       "      <td>0.0</td>\n",
       "      <td>...</td>\n",
       "      <td>0.0</td>\n",
       "      <td>0.0</td>\n",
       "      <td>0.0</td>\n",
       "      <td>0.0</td>\n",
       "      <td>0.0</td>\n",
       "      <td>0.0</td>\n",
       "      <td>1.7689944483588442</td>\n",
       "      <td>0.0</td>\n",
       "      <td>0.0</td>\n",
       "      <td>0.8851360429679973</td>\n",
       "    </tr>\n",
       "    <tr>\n",
       "      <th>merge_peak_3</th>\n",
       "      <td>0.0</td>\n",
       "      <td>0.08572987402588404</td>\n",
       "      <td>1.2921807514933106</td>\n",
       "      <td>0.11321061044799109</td>\n",
       "      <td>1.1861900558050966</td>\n",
       "      <td>0.26793320524663305</td>\n",
       "      <td>0.0</td>\n",
       "      <td>0.0</td>\n",
       "      <td>0.0</td>\n",
       "      <td>2.8052503337326806</td>\n",
       "      <td>...</td>\n",
       "      <td>1.1926450779423958</td>\n",
       "      <td>1.9852029980719195</td>\n",
       "      <td>0.0</td>\n",
       "      <td>1.0647702553902378</td>\n",
       "      <td>0.0</td>\n",
       "      <td>2.4885779642968138</td>\n",
       "      <td>1.7689944483588442</td>\n",
       "      <td>2.7362293374312228</td>\n",
       "      <td>0.0</td>\n",
       "      <td>0.0</td>\n",
       "    </tr>\n",
       "    <tr>\n",
       "      <th>merge_peak_4</th>\n",
       "      <td>0.0</td>\n",
       "      <td>0.5145731728297582</td>\n",
       "      <td>2.5094114677139796</td>\n",
       "      <td>2.49903232193398</td>\n",
       "      <td>3.0073419753411677</td>\n",
       "      <td>1.5094114677139794</td>\n",
       "      <td>2.0995356735509145</td>\n",
       "      <td>0.0</td>\n",
       "      <td>1.2244939439817357</td>\n",
       "      <td>2.8052503337326806</td>\n",
       "      <td>...</td>\n",
       "      <td>2.934112064343543</td>\n",
       "      <td>1.9852029980719195</td>\n",
       "      <td>0.0</td>\n",
       "      <td>2.493814612662961</td>\n",
       "      <td>2.429684275243245</td>\n",
       "      <td>0.5947435215137414</td>\n",
       "      <td>2.6236948952098706</td>\n",
       "      <td>0.0</td>\n",
       "      <td>1.6614145611590294</td>\n",
       "      <td>0.0</td>\n",
       "    </tr>\n",
       "    <tr>\n",
       "      <th>merge_peak_5</th>\n",
       "      <td>0.0</td>\n",
       "      <td>0.0</td>\n",
       "      <td>0.0</td>\n",
       "      <td>0.3852901558847919</td>\n",
       "      <td>0.0</td>\n",
       "      <td>0.26793320524663305</td>\n",
       "      <td>0.0</td>\n",
       "      <td>1.2556548754681962</td>\n",
       "      <td>0.0</td>\n",
       "      <td>0.0</td>\n",
       "      <td>...</td>\n",
       "      <td>0.2307802068291671</td>\n",
       "      <td>0.0</td>\n",
       "      <td>0.0</td>\n",
       "      <td>0.0</td>\n",
       "      <td>1.9009899941688342</td>\n",
       "      <td>0.0</td>\n",
       "      <td>0.0</td>\n",
       "      <td>0.0</td>\n",
       "      <td>0.0</td>\n",
       "      <td>0.0</td>\n",
       "    </tr>\n",
       "  </tbody>\n",
       "</table>\n",
       "<p>5 rows × 98 columns</p>\n",
       "</div>"
      ],
      "text/plain": [
       "                          HCB001               HCB002              HCB003  \\\n",
       "3                                                                           \n",
       "merge_peak_1  1.4131961524546763     2.86304842232868                 0.0   \n",
       "merge_peak_2                 0.0   0.1797060222348978                 0.0   \n",
       "merge_peak_3                 0.0  0.08572987402588404  1.2921807514933106   \n",
       "merge_peak_4                 0.0   0.5145731728297582  2.5094114677139796   \n",
       "merge_peak_5                 0.0                  0.0                 0.0   \n",
       "\n",
       "                           HCM001              HCM002               HCM003  \\\n",
       "3                                                                            \n",
       "merge_peak_1     5.01828535302775   4.117457581548177    5.062569347196967   \n",
       "merge_peak_2    3.615310591590426                 0.0   0.9777471931528721   \n",
       "merge_peak_3  0.11321061044799109  1.1861900558050966  0.26793320524663305   \n",
       "merge_peak_4     2.49903232193398  3.0073419753411677   1.5094114677139794   \n",
       "merge_peak_5   0.3852901558847919                 0.0  0.26793320524663305   \n",
       "\n",
       "                         HCTA001             HCTA002             HCTA003  \\\n",
       "3                                                                          \n",
       "merge_peak_1  2.5068236732248237    2.94179621055672   2.519716476105718   \n",
       "merge_peak_2                 0.0                 0.0                 0.0   \n",
       "merge_peak_3                 0.0                 0.0                 0.0   \n",
       "merge_peak_4  2.0995356735509145                 0.0  1.2244939439817357   \n",
       "merge_peak_5                 0.0  1.2556548754681962                 0.0   \n",
       "\n",
       "                         HCTA004  ...          RATB024all             RATB031  \\\n",
       "3                                 ...                                           \n",
       "merge_peak_1                 0.0  ...   5.498055437770108   5.267168863485237   \n",
       "merge_peak_2                 0.0  ...                 0.0                 0.0   \n",
       "merge_peak_3  2.8052503337326806  ...  1.1926450779423958  1.9852029980719195   \n",
       "merge_peak_4  2.8052503337326806  ...   2.934112064343543  1.9852029980719195   \n",
       "merge_peak_5                 0.0  ...  0.2307802068291671                 0.0   \n",
       "\n",
       "                        RATB032             RATB033             RATB034  \\\n",
       "3                                                                         \n",
       "merge_peak_1  5.112359713908498  5.3993106261997275   5.410083540587341   \n",
       "merge_peak_2                0.0                 0.0                 0.0   \n",
       "merge_peak_3                0.0  1.0647702553902378                 0.0   \n",
       "merge_peak_4                0.0   2.493814612662961   2.429684275243245   \n",
       "merge_peak_5                0.0                 0.0  1.9009899941688342   \n",
       "\n",
       "                         RATB045             RATB046             RATB048  \\\n",
       "3                                                                          \n",
       "merge_peak_1   5.186594341933815   5.217784640220905   5.882892542668281   \n",
       "merge_peak_2                 0.0  1.7689944483588442                 0.0   \n",
       "merge_peak_3  2.4885779642968138  1.7689944483588442  2.7362293374312228   \n",
       "merge_peak_4  0.5947435215137414  2.6236948952098706                 0.0   \n",
       "merge_peak_5                 0.0                 0.0                 0.0   \n",
       "\n",
       "                         RATB054             RATB055  \n",
       "3                                                     \n",
       "merge_peak_1   5.177673770819981   5.777607578663552  \n",
       "merge_peak_2                 0.0  0.8851360429679973  \n",
       "merge_peak_3                 0.0                 0.0  \n",
       "merge_peak_4  1.6614145611590294                 0.0  \n",
       "merge_peak_5                 0.0                 0.0  \n",
       "\n",
       "[5 rows x 98 columns]"
      ]
     },
     "execution_count": 140,
     "metadata": {},
     "output_type": "execute_result"
    }
   ],
   "source": [
    "df = df.drop(columns=['CellType'])\n",
    "df = df.drop(columns=['Disease'])\n",
    "df = df.drop(columns=['TSS'])\n",
    "df = df.drop(columns=['FinalMappedReads'])\n",
    "dfT=df.T\n",
    "dfT.head()\n"
   ]
  },
  {
   "cell_type": "code",
   "execution_count": 141,
   "metadata": {},
   "outputs": [
    {
     "data": {
      "text/html": [
       "<div>\n",
       "<style scoped>\n",
       "    .dataframe tbody tr th:only-of-type {\n",
       "        vertical-align: middle;\n",
       "    }\n",
       "\n",
       "    .dataframe tbody tr th {\n",
       "        vertical-align: top;\n",
       "    }\n",
       "\n",
       "    .dataframe thead th {\n",
       "        text-align: right;\n",
       "    }\n",
       "</style>\n",
       "<table border=\"1\" class=\"dataframe\">\n",
       "  <thead>\n",
       "    <tr style=\"text-align: right;\">\n",
       "      <th></th>\n",
       "      <th>PC1</th>\n",
       "      <th>PC2</th>\n",
       "      <th>PC3</th>\n",
       "      <th>PC4</th>\n",
       "      <th>PC5</th>\n",
       "      <th>PC6</th>\n",
       "      <th>PC7</th>\n",
       "      <th>PC8</th>\n",
       "      <th>PC9</th>\n",
       "      <th>PC10</th>\n",
       "    </tr>\n",
       "  </thead>\n",
       "  <tbody>\n",
       "    <tr>\n",
       "      <th>HCB001</th>\n",
       "      <td>0.092816</td>\n",
       "      <td>0.006111</td>\n",
       "      <td>0.129829</td>\n",
       "      <td>0.247591</td>\n",
       "      <td>-0.008736</td>\n",
       "      <td>-0.189814</td>\n",
       "      <td>0.099728</td>\n",
       "      <td>0.000724</td>\n",
       "      <td>-0.103256</td>\n",
       "      <td>0.007923</td>\n",
       "    </tr>\n",
       "    <tr>\n",
       "      <th>HCB002</th>\n",
       "      <td>0.095038</td>\n",
       "      <td>0.007525</td>\n",
       "      <td>0.124548</td>\n",
       "      <td>0.262459</td>\n",
       "      <td>0.008266</td>\n",
       "      <td>-0.136958</td>\n",
       "      <td>0.082586</td>\n",
       "      <td>0.032403</td>\n",
       "      <td>-0.101962</td>\n",
       "      <td>0.051024</td>\n",
       "    </tr>\n",
       "    <tr>\n",
       "      <th>HCB003</th>\n",
       "      <td>0.094337</td>\n",
       "      <td>-0.002723</td>\n",
       "      <td>0.103689</td>\n",
       "      <td>0.311703</td>\n",
       "      <td>0.063234</td>\n",
       "      <td>-0.057334</td>\n",
       "      <td>0.023714</td>\n",
       "      <td>-0.030153</td>\n",
       "      <td>-0.070579</td>\n",
       "      <td>0.005547</td>\n",
       "    </tr>\n",
       "    <tr>\n",
       "      <th>HCM001</th>\n",
       "      <td>0.097955</td>\n",
       "      <td>0.119970</td>\n",
       "      <td>0.049112</td>\n",
       "      <td>-0.061750</td>\n",
       "      <td>-0.122177</td>\n",
       "      <td>-0.223101</td>\n",
       "      <td>-0.133365</td>\n",
       "      <td>0.168356</td>\n",
       "      <td>-0.082756</td>\n",
       "      <td>0.087193</td>\n",
       "    </tr>\n",
       "    <tr>\n",
       "      <th>HCM002</th>\n",
       "      <td>0.095741</td>\n",
       "      <td>0.112287</td>\n",
       "      <td>0.045253</td>\n",
       "      <td>-0.070956</td>\n",
       "      <td>-0.144181</td>\n",
       "      <td>-0.270266</td>\n",
       "      <td>-0.151953</td>\n",
       "      <td>0.205374</td>\n",
       "      <td>-0.097442</td>\n",
       "      <td>0.115337</td>\n",
       "    </tr>\n",
       "  </tbody>\n",
       "</table>\n",
       "</div>"
      ],
      "text/plain": [
       "             PC1       PC2       PC3       PC4       PC5       PC6       PC7  \\\n",
       "HCB001  0.092816  0.006111  0.129829  0.247591 -0.008736 -0.189814  0.099728   \n",
       "HCB002  0.095038  0.007525  0.124548  0.262459  0.008266 -0.136958  0.082586   \n",
       "HCB003  0.094337 -0.002723  0.103689  0.311703  0.063234 -0.057334  0.023714   \n",
       "HCM001  0.097955  0.119970  0.049112 -0.061750 -0.122177 -0.223101 -0.133365   \n",
       "HCM002  0.095741  0.112287  0.045253 -0.070956 -0.144181 -0.270266 -0.151953   \n",
       "\n",
       "             PC8       PC9      PC10  \n",
       "HCB001  0.000724 -0.103256  0.007923  \n",
       "HCB002  0.032403 -0.101962  0.051024  \n",
       "HCB003 -0.030153 -0.070579  0.005547  \n",
       "HCM001  0.168356 -0.082756  0.087193  \n",
       "HCM002  0.205374 -0.097442  0.115337  "
      ]
     },
     "execution_count": 141,
     "metadata": {},
     "output_type": "execute_result"
    }
   ],
   "source": [
    "#PC1-PC10\n",
    "\n",
    "scaler = StandardScaler()\n",
    "scaled_features = scaler.fit_transform(dfT)\n",
    "\n",
    "pca=PCA(n_components=10)\n",
    "pca.fit(dfT)\n",
    "PC_ratio=pca.explained_variance_ratio_\n",
    "PC_data=pd.DataFrame(np.transpose(pca.components_),index=dfT.columns,columns=pc)\n",
    "PC_data.head()\n"
   ]
  },
  {
   "cell_type": "code",
   "execution_count": 142,
   "metadata": {},
   "outputs": [
    {
     "data": {
      "text/plain": [
       "array([0.70347368, 0.07193053, 0.03632206, 0.02077002, 0.0103507 ,\n",
       "       0.00629464, 0.0041533 , 0.00344185, 0.00330061, 0.00294267])"
      ]
     },
     "execution_count": 142,
     "metadata": {},
     "output_type": "execute_result"
    }
   ],
   "source": [
    "PC_ratio"
   ]
  },
  {
   "cell_type": "code",
   "execution_count": null,
   "metadata": {},
   "outputs": [],
   "source": [
    "#c=C,cmap='RdPu'"
   ]
  },
  {
   "cell_type": "code",
   "execution_count": 143,
   "metadata": {},
   "outputs": [],
   "source": [
    "def PlotPCA(a,b,Type,Name):\n",
    "    plt.style.use('seaborn-white')\n",
    "    fig=plt.figure(figsize=(3,3))\n",
    "    ax=fig.add_axes([0.2,0.2,0.7,0.7])\n",
    "    ax.spines['bottom'].set_linewidth(0.5)\n",
    "    ax.spines['left'].set_linewidth(0.5)\n",
    "    ax.spines['right'].set_linewidth(0.5)\n",
    "    ax.spines['top'].set_linewidth(0.5)\n",
    "    ax.set_xlabel('PC{}({:.2f}%)'.format(a,pca_ratio[a-1]*100),fontsize=10)\n",
    "    ax.set_ylabel('PC{}({:.2f}%)'.format(b,pca_ratio[b-1]*100),fontsize=10)\n",
    "    ax.tick_params(axis='both',length=7,labelsize=8,direction='out')\n",
    "    ax.scatter(PC_data['PC{}'.format(a)],PC_data['PC{}'.format(b)],s=60,c=Type,marker='o',alpha=0.65,edgecolors='none')\n",
    "    outfig='{}_{}_vs_{}.pdf'.format((Name),str(a),str(b))\n",
    "    plt.savefig(outfig)\n"
   ]
  },
  {
   "cell_type": "code",
   "execution_count": 144,
   "metadata": {},
   "outputs": [
    {
     "data": {
      "image/png": "[encoded data removed]",
      "text/plain": [
       "<Figure size 216x216 with 1 Axes>"
      ]
     },
     "metadata": {},
     "output_type": "display_data"
    },
    {
     "data": {
      "image/png": "[encoded data removed]",
      "text/plain": [
       "<Figure size 216x216 with 1 Axes>"
      ]
     },
     "metadata": {},
     "output_type": "display_data"
    }
   ],
   "source": [
    "PlotPCA(1,2,CellType_color,'CellType')\n",
    "PlotPCA(1,2,Disease_color,'Disease')"
   ]
  },
  {
   "cell_type": "code",
   "execution_count": 145,
   "metadata": {},
   "outputs": [
    {
     "data": {
      "image/png": "[encoded data removed]",
      "text/plain": [
       "<Figure size 216x216 with 1 Axes>"
      ]
     },
     "metadata": {},
     "output_type": "display_data"
    },
    {
     "data": {
      "image/png": "[encoded data removed]",
      "text/plain": [
       "<Figure size 216x216 with 1 Axes>"
      ]
     },
     "metadata": {},
     "output_type": "display_data"
    }
   ],
   "source": [
    "PlotPCA(2,3,CellType_color,'CellType')\n",
    "PlotPCA(2,3,Disease_color,'Disease')"
   ]
  },
  {
   "cell_type": "code",
   "execution_count": 146,
   "metadata": {},
   "outputs": [
    {
     "data": {
      "image/png": "[encoded data removed]",
      "text/plain": [
       "<Figure size 216x216 with 1 Axes>"
      ]
     },
     "metadata": {},
     "output_type": "display_data"
    },
    {
     "data": {
      "image/png": "[encoded data removed]",
      "text/plain": [
       "<Figure size 216x216 with 1 Axes>"
      ]
     },
     "metadata": {},
     "output_type": "display_data"
    }
   ],
   "source": [
    "PlotPCA(1,3,CellType_color,'CellType')\n",
    "PlotPCA(1,3,Disease_color,'Disease')"
   ]
  },
  {
   "cell_type": "code",
   "execution_count": 128,
   "metadata": {},
   "outputs": [],
   "source": [
    "TSS_C=[]\n",
    "for i in TSS:\n",
    "    TSS_C.append(float(i))\n",
    "\n",
    "\n",
    "Reads_C=[]\n",
    "for i in Reads:\n",
    "    Reads_C.append(float(i))\n"
   ]
  },
  {
   "cell_type": "code",
   "execution_count": 133,
   "metadata": {},
   "outputs": [],
   "source": [
    "def PlotPCA_seq(a,b,C,Name):\n",
    "    plt.style.use('seaborn-white')\n",
    "    fig=plt.figure(figsize=(3,3))\n",
    "    ax=fig.add_axes([0.2,0.2,0.7,0.7])\n",
    "    ax.spines['bottom'].set_linewidth(0.5)\n",
    "    ax.spines['left'].set_linewidth(0.5)\n",
    "    ax.spines['right'].set_linewidth(0.5)\n",
    "    ax.spines['top'].set_linewidth(0.5)\n",
    "    ax.set_xlabel('PC{}({:.2f}%)'.format(a,pca_ratio[a-1]*100),fontsize=10)\n",
    "    ax.set_ylabel('PC{}({:.2f}%)'.format(b,pca_ratio[b-1]*100),fontsize=10)\n",
    "    ax.tick_params(axis='both',length=7,labelsize=8,direction='out')\n",
    "    ax.scatter(PC_data['PC{}'.format(a)],PC_data['PC{}'.format(b)],c=C,cmap='GnBu',s=60,marker='o',alpha=0.65,edgecolors='none')\n",
    "    outfig='{}_{}_vs_{}.pdf'.format((Name),str(a),str(b))\n",
    "    plt.savefig(outfig)\n"
   ]
  },
  {
   "cell_type": "code",
   "execution_count": 134,
   "metadata": {},
   "outputs": [
    {
     "data": {
      "image/png": "[encoded data removed]",
      "text/plain": [
       "<Figure size 216x216 with 1 Axes>"
      ]
     },
     "metadata": {},
     "output_type": "display_data"
    },
    {
     "data": {
      "image/png": "[encoded data removed]",
      "text/plain": [
       "<Figure size 216x216 with 1 Axes>"
      ]
     },
     "metadata": {},
     "output_type": "display_data"
    },
    {
     "data": {
      "image/png": "[encoded data removed]",
      "text/plain": [
       "<Figure size 216x216 with 1 Axes>"
      ]
     },
     "metadata": {},
     "output_type": "display_data"
    }
   ],
   "source": [
    "PlotPCA_seq(1,2,TSS_C,'TSS')\n",
    "PlotPCA_seq(1,3,TSS_C,'TSS')\n",
    "PlotPCA_seq(2,3,TSS_C,'TSS')"
   ]
  },
  {
   "cell_type": "code",
   "execution_count": 135,
   "metadata": {},
   "outputs": [
    {
     "data": {
      "image/png": "[encoded data removed]",
      "text/plain": [
       "<Figure size 216x216 with 1 Axes>"
      ]
     },
     "metadata": {},
     "output_type": "display_data"
    },
    {
     "data": {
      "image/png": "[encoded data removed]",
      "text/plain": [
       "<Figure size 216x216 with 1 Axes>"
      ]
     },
     "metadata": {},
     "output_type": "display_data"
    },
    {
     "data": {
      "image/png": "[encoded data removed]",
      "text/plain": [
       "<Figure size 216x216 with 1 Axes>"
      ]
     },
     "metadata": {},
     "output_type": "display_data"
    }
   ],
   "source": [
    "PlotPCA_seq(1,2,Reads_C,'Reads')\n",
    "PlotPCA_seq(1,3,Reads_C,'Reads')\n",
    "PlotPCA_seq(2,3,Reads_C,'Reads')"
   ]
  },
  {
   "cell_type": "code",
   "execution_count": 147,
   "metadata": {},
   "outputs": [
    {
     "data": {
      "text/plain": [
       "['PC1', 'PC2', 'PC3', 'PC4', 'PC5', 'PC6', 'PC7', 'PC8', 'PC9', 'PC10']"
      ]
     },
     "execution_count": 147,
     "metadata": {},
     "output_type": "execute_result"
    }
   ],
   "source": [
    "pc"
   ]
  },
  {
   "cell_type": "code",
   "execution_count": 67,
   "metadata": {},
   "outputs": [
    {
     "data": {
      "text/plain": [
       "<BarContainer object of 10 artists>"
      ]
     },
     "execution_count": 67,
     "metadata": {},
     "output_type": "execute_result"
    },
    {
     "data": {
      "image/png": "[encoded data removed]",
      "text/plain": [
       "<Figure size 432x288 with 1 Axes>"
      ]
     },
     "metadata": {},
     "output_type": "display_data"
    }
   ],
   "source": [
    "variation = []\n",
    "plt.bar(pc,pca.explained_variance_ratio_)"
   ]
  },
  {
   "cell_type": "code",
   "execution_count": 136,
   "metadata": {},
   "outputs": [
    {
     "data": {
      "text/plain": [
       "PCA(copy=True, iterated_power='auto', n_components=10, random_state=None,\n",
       "    svd_solver='auto', tol=0.0, whiten=False)"
      ]
     },
     "execution_count": 136,
     "metadata": {},
     "output_type": "execute_result"
    }
   ],
   "source": [
    "pca"
   ]
  },
  {
   "cell_type": "code",
   "execution_count": null,
   "metadata": {},
   "outputs": [],
   "source": [
    "#"
   ]
  },
  {
   "cell_type": "code",
   "execution_count": 86,
   "metadata": {},
   "outputs": [
    {
     "data": {
      "text/plain": [
       "-0.12560047853157472"
      ]
     },
     "execution_count": 86,
     "metadata": {},
     "output_type": "execute_result"
    }
   ],
   "source": [
    "PC_data['PC1'].min()"
   ]
  },
  {
   "cell_type": "code",
   "execution_count": 89,
   "metadata": {},
   "outputs": [
    {
     "data": {
      "text/html": [
       "<div>\n",
       "<style scoped>\n",
       "    .dataframe tbody tr th:only-of-type {\n",
       "        vertical-align: middle;\n",
       "    }\n",
       "\n",
       "    .dataframe tbody tr th {\n",
       "        vertical-align: top;\n",
       "    }\n",
       "\n",
       "    .dataframe thead th {\n",
       "        text-align: right;\n",
       "    }\n",
       "</style>\n",
       "<table border=\"1\" class=\"dataframe\">\n",
       "  <thead>\n",
       "    <tr style=\"text-align: right;\">\n",
       "      <th></th>\n",
       "      <th>PC1</th>\n",
       "    </tr>\n",
       "  </thead>\n",
       "  <tbody>\n",
       "    <tr>\n",
       "      <th>HCB001</th>\n",
       "      <td>0.092816</td>\n",
       "    </tr>\n",
       "    <tr>\n",
       "      <th>HCB002</th>\n",
       "      <td>0.095038</td>\n",
       "    </tr>\n",
       "    <tr>\n",
       "      <th>HCB003</th>\n",
       "      <td>0.094337</td>\n",
       "    </tr>\n",
       "    <tr>\n",
       "      <th>HCM001</th>\n",
       "      <td>0.097955</td>\n",
       "    </tr>\n",
       "    <tr>\n",
       "      <th>HCM002</th>\n",
       "      <td>0.095741</td>\n",
       "    </tr>\n",
       "    <tr>\n",
       "      <th>...</th>\n",
       "      <td>...</td>\n",
       "    </tr>\n",
       "    <tr>\n",
       "      <th>RATB045</th>\n",
       "      <td>0.104084</td>\n",
       "    </tr>\n",
       "    <tr>\n",
       "      <th>RATB046</th>\n",
       "      <td>0.104104</td>\n",
       "    </tr>\n",
       "    <tr>\n",
       "      <th>RATB048</th>\n",
       "      <td>0.104223</td>\n",
       "    </tr>\n",
       "    <tr>\n",
       "      <th>RATB054</th>\n",
       "      <td>0.107791</td>\n",
       "    </tr>\n",
       "    <tr>\n",
       "      <th>RATB055</th>\n",
       "      <td>0.105372</td>\n",
       "    </tr>\n",
       "  </tbody>\n",
       "</table>\n",
       "<p>98 rows × 1 columns</p>\n",
       "</div>"
      ],
      "text/plain": [
       "              PC1\n",
       "HCB001   0.092816\n",
       "HCB002   0.095038\n",
       "HCB003   0.094337\n",
       "HCM001   0.097955\n",
       "HCM002   0.095741\n",
       "...           ...\n",
       "RATB045  0.104084\n",
       "RATB046  0.104104\n",
       "RATB048  0.104223\n",
       "RATB054  0.107791\n",
       "RATB055  0.105372\n",
       "\n",
       "[98 rows x 1 columns]"
      ]
     },
     "execution_count": 89,
     "metadata": {},
     "output_type": "execute_result"
    }
   ],
   "source": [
    "PC_data['PC1'].to_frame().to_csv('PC1.txt',sep='\\t')"
   ]
  },
  {
   "cell_type": "code",
   "execution_count": 91,
   "metadata": {},
   "outputs": [],
   "source": [
    "PC_data['PC1'].to_frame().sort_values(by='PC1').to_csv('PC1_sample.txt',sep='\\t')\n",
    "PC_data['PC2'].to_frame().sort_values(by='PC2').to_csv('PC2_sample.txt',sep='\\t')\n",
    "PC_data['PC3'].to_frame().sort_values(by='PC3').to_csv('PC3_sample.txt',sep='\\t')"
   ]
  },
  {
   "cell_type": "code",
   "execution_count": null,
   "metadata": {},
   "outputs": [],
   "source": []
  },
  {
   "cell_type": "code",
   "execution_count": null,
   "metadata": {},
   "outputs": [],
   "source": []
  },
  {
   "cell_type": "code",
   "execution_count": null,
   "metadata": {},
   "outputs": [],
   "source": []
  },
  {
   "cell_type": "code",
   "execution_count": null,
   "metadata": {},
   "outputs": [],
   "source": []
  },
  {
   "cell_type": "code",
   "execution_count": null,
   "metadata": {},
   "outputs": [],
   "source": []
  },
  {
   "cell_type": "code",
   "execution_count": null,
   "metadata": {},
   "outputs": [],
   "source": []
  },
  {
   "cell_type": "code",
   "execution_count": null,
   "metadata": {},
   "outputs": [],
   "source": []
  },
  {
   "cell_type": "code",
   "execution_count": null,
   "metadata": {},
   "outputs": [],
   "source": []
  },
  {
   "cell_type": "code",
   "execution_count": null,
   "metadata": {},
   "outputs": [],
   "source": []
  },
  {
   "cell_type": "code",
   "execution_count": null,
   "metadata": {},
   "outputs": [],
   "source": []
  },
  {
   "cell_type": "code",
   "execution_count": null,
   "metadata": {},
   "outputs": [],
   "source": []
  },
  {
   "cell_type": "code",
   "execution_count": null,
   "metadata": {},
   "outputs": [],
   "source": []
  },
  {
   "cell_type": "code",
   "execution_count": null,
   "metadata": {
    "scrolled": true
   },
   "outputs": [],
   "source": []
  },
  {
   "cell_type": "code",
   "execution_count": null,
   "metadata": {},
   "outputs": [],
   "source": []
  },
  {
   "cell_type": "code",
   "execution_count": null,
   "metadata": {},
   "outputs": [],
   "source": []
  },
  {
   "cell_type": "code",
   "execution_count": null,
   "metadata": {
    "scrolled": true
   },
   "outputs": [],
   "source": []
  },
  {
   "cell_type": "code",
   "execution_count": null,
   "metadata": {},
   "outputs": [],
   "source": []
  },
  {
   "cell_type": "code",
   "execution_count": null,
   "metadata": {},
   "outputs": [],
   "source": []
  },
  {
   "cell_type": "code",
   "execution_count": null,
   "metadata": {},
   "outputs": [],
   "source": []
  },
  {
   "cell_type": "code",
   "execution_count": null,
   "metadata": {},
   "outputs": [],
   "source": []
  },
  {
   "cell_type": "code",
   "execution_count": null,
   "metadata": {},
   "outputs": [],
   "source": []
  }
 ],
 "metadata": {
  "kernelspec": {
   "display_name": "Python 3",
   "language": "python",
   "name": "python3"
  },
  "language_info": {
   "codemirror_mode": {
    "name": "ipython",
    "version": 3
   },
   "file_extension": ".py",
   "mimetype": "text/x-python",
   "name": "python",
   "nbconvert_exporter": "python",
   "pygments_lexer": "ipython3",
   "version": "3.7.6"
  }
 },
 "nbformat": 4,
 "nbformat_minor": 4
}
